{
 "metadata": {
  "language_info": {
   "codemirror_mode": {
    "name": "ipython",
    "version": 3
   },
   "file_extension": ".py",
   "mimetype": "text/x-python",
   "name": "python",
   "nbconvert_exporter": "python",
   "pygments_lexer": "ipython3",
   "version": "3.9.1"
  },
  "orig_nbformat": 2,
  "kernelspec": {
   "name": "python391jvsc74a57bd0c7bf73d8d1e5cbf498eb4717309adf32bb1660020370dba2bfe6449cc1794f31",
   "display_name": "Python 3.9.1 64-bit"
  },
  "metadata": {
   "interpreter": {
    "hash": "c7bf73d8d1e5cbf498eb4717309adf32bb1660020370dba2bfe6449cc1794f31"
   }
  }
 },
 "nbformat": 4,
 "nbformat_minor": 2,
 "cells": [
  {
   "cell_type": "code",
   "execution_count": 1,
   "metadata": {},
   "outputs": [],
   "source": [
    "__author__ = \"730163077\""
   ]
  },
  {
   "source": [
    "# Hypothesis  \n",
    "## I predict that the number of deaths from ages 15-19 will be higher when the pupil-teacher ratio is high. "
   ],
   "cell_type": "markdown",
   "metadata": {}
  },
  {
   "source": [
    "### We will import necessary libraries and name necessary constants."
   ],
   "cell_type": "markdown",
   "metadata": {}
  },
  {
   "cell_type": "code",
   "execution_count": 2,
   "metadata": {},
   "outputs": [],
   "source": [
    "import pandas as pd\n",
    "pupil_ratio: str = \"SE.SEC.ENRL.TC.ZS\"\n",
    "death_15_19: str = \"SH.DTH.1519\""
   ]
  },
  {
   "source": [
    "### First, we will read in the csv file."
   ],
   "cell_type": "markdown",
   "metadata": {}
  },
  {
   "cell_type": "code",
   "execution_count": 3,
   "metadata": {},
   "outputs": [],
   "source": [
    "dataframe = pd.read_csv(\"../../data/databank_education_2018.csv\")"
   ]
  },
  {
   "source": [
    "### Now we will use the shape and head method for the dataframe."
   ],
   "cell_type": "markdown",
   "metadata": {}
  },
  {
   "cell_type": "code",
   "execution_count": 4,
   "metadata": {},
   "outputs": [
    {
     "output_type": "stream",
     "name": "stdout",
     "text": [
      "(244, 94)\n               Country  SE.COM.DURS  SE.ENR.PRIM.FM.ZS  SE.ENR.PRSC.FM.ZS  \\\n0          Afghanistan          9.0            0.66691            0.63602   \n1              Albania          9.0            1.03765            1.01730   \n2              Algeria         10.0            0.95499                NaN   \n3              Andorra         10.0                NaN                NaN   \n4               Angola          6.0                NaN                NaN   \n5  Antigua and Barbuda         11.0            0.99208            0.97924   \n6           Arab World          9.0            0.94617            0.94833   \n7            Argentina         14.0                NaN                NaN   \n8              Armenia         12.0            0.99961            1.02283   \n9                Aruba         13.0                NaN                NaN   \n\n   SE.ENR.SECO.FM.ZS  SE.ENR.TERT.FM.ZS  SE.PRE.DURS  SE.PRE.ENRL.TC.ZS  \\\n0            0.57098            0.34523          1.0                NaN   \n1            1.00539            1.36299          5.0           17.09409   \n2                NaN            1.39722          1.0                NaN   \n3                NaN                NaN          3.0           13.27711   \n4                NaN                NaN          5.0                NaN   \n5            0.96286                NaN          5.0                NaN   \n6            0.95186            1.09935          3.0           21.16757   \n7                NaN                NaN          6.0                NaN   \n8            1.03762            1.24788          3.0            6.27090   \n9                NaN                NaN          2.0                NaN   \n\n   SE.PRE.ENRR  SE.PRE.ENRR.FE  ...  SH.DYN.1014  SH.DYN.1519  SH.DYN.2024  \\\n0          NaN             NaN  ...     2.000000    13.800000    17.600000   \n1    80.498734       80.790977  ...     1.100000     1.800000     1.900000   \n2          NaN             NaN  ...     1.700000     2.700000     3.300000   \n3          NaN             NaN  ...     0.500000     1.400000     2.100000   \n4          NaN             NaN  ...     6.400000    13.100000    19.900000   \n5    70.253601       74.025070  ...     1.000000     2.500000     3.200000   \n6    27.001801       26.855440  ...     2.923226     6.268086     8.017785   \n7          NaN             NaN  ...     1.100000     3.500000     4.900000   \n8    38.021290       39.659691  ...     1.000000     2.300000     2.700000   \n9          NaN             NaN  ...          NaN          NaN          NaN   \n\n   SL.TLF.TOTL.FE.ZS  SL.TLF.TOTL.IN  SL.UEM.TOTL.FE.ZS  SL.UEM.TOTL.MA.ZS  \\\n0          21.247021      10319282.0          13.920000          10.290000   \n1          42.190687       1400072.0          11.870000          12.620000   \n2          20.126974      12589369.0          20.490000           9.720000   \n3                NaN             NaN                NaN                NaN   \n4          50.202910      12705650.0           7.280000           6.720000   \n5                NaN             NaN                NaN                NaN   \n6          20.368759     134761988.0          19.903642           7.788688   \n7          43.001857      20551682.0          10.540000           8.230000   \n8          44.231575       1245626.0          20.400000          17.830000   \n9                NaN             NaN                NaN                NaN   \n\n   SL.UEM.TOTL.ZS  SP.POP.0014.TO.ZS  SP.POP.1564.TO.ZS  \n0       11.060000          43.090176          54.324898  \n1       12.300000          17.672874          68.582390  \n2       11.890000          30.148679          63.488825  \n3             NaN                NaN                NaN  \n4        7.000000          46.808925          50.974702  \n5             NaN          22.081092          69.119083  \n6       10.256798          32.780436          62.661687  \n7        9.220000          24.760934          64.121277  \n8       18.969999          20.633422          68.112760  \n9             NaN          17.802447          68.646606  \n\n[10 rows x 94 columns]\n"
     ]
    }
   ],
   "source": [
    "print(dataframe.shape)\n",
    "print(dataframe.head(10))"
   ]
  },
  {
   "source": [
    "### Now we will narrow our columns to country, pupil-teacher ratio (secondary), and number of deaths from ages 15-19. "
   ],
   "cell_type": "markdown",
   "metadata": {}
  },
  {
   "cell_type": "code",
   "execution_count": 5,
   "metadata": {},
   "outputs": [
    {
     "output_type": "stream",
     "name": "stdout",
     "text": [
      "               Country  SE.SEC.ENRL.TC.ZS  SH.DTH.1519\n0          Afghanistan           33.50124      12310.0\n1              Albania           11.19927         77.0\n2              Algeria                NaN       1520.0\n3              Andorra            8.01599          1.0\n4               Angola                NaN       8620.0\n5  Antigua and Barbuda            9.29704          4.0\n6           Arab World           14.49976      46123.0\n7            Argentina                NaN       2449.0\n8              Armenia            8.01689         78.0\n9                Aruba                NaN          NaN\n"
     ]
    }
   ],
   "source": [
    "ratio_and_death = dataframe[[\"Country\", pupil_ratio, death_15_19]]\n",
    "\n",
    "print(ratio_and_death.head(10))"
   ]
  },
  {
   "source": [
    "### We will now only select rows with complete data."
   ],
   "cell_type": "markdown",
   "metadata": {}
  },
  {
   "cell_type": "code",
   "execution_count": 6,
   "metadata": {},
   "outputs": [
    {
     "output_type": "stream",
     "name": "stdout",
     "text": [
      "(244, 3)\n               Country  SE.SEC.ENRL.TC.ZS  SH.DTH.1519\n0          Afghanistan           33.50124      12310.0\n1              Albania           11.19927         77.0\n2              Algeria                NaN       1520.0\n3              Andorra            8.01599          1.0\n4               Angola                NaN       8620.0\n5  Antigua and Barbuda            9.29704          4.0\n6           Arab World           14.49976      46123.0\n7            Argentina                NaN       2449.0\n8              Armenia            8.01689         78.0\n9                Aruba                NaN          NaN\n"
     ]
    }
   ],
   "source": [
    "ratio_and_death.dropna(inplace = True)\n",
    "\n",
    "print(ratio_and_death.shape)\n",
    "print(ratio_and_death.head(10))"
   ]
  },
  {
   "source": [
    "### We will display the 10-largest values of the pupil-teacher ratio in secondary school in descending order."
   ],
   "cell_type": "markdown",
   "metadata": {}
  },
  {
   "cell_type": "code",
   "execution_count": 7,
   "metadata": {},
   "outputs": [
    {
     "output_type": "stream",
     "name": "stdout",
     "text": [
      "                     Country  SE.SEC.ENRL.TC.ZS  SH.DTH.1519\n137                   Malawi           72.31002       2975.0\n15                Bangladesh           35.09524      20585.0\n64                   Eritrea           35.02165        591.0\n0                Afghanistan           33.50124      12310.0\n100                    India           28.52287     103186.0\n185                   Rwanda           28.24773       1568.0\n62               El Salvador           27.55579       1430.0\n47             Cote d'Ivoire           27.28114       6383.0\n155                  Myanmar           27.24679       3462.0\n202  South Asia (IDA & IBRD)           27.19053     166421.0\n"
     ]
    }
   ],
   "source": [
    "df = ratio_and_death.sort_values(by = [pupil_ratio], ascending = False)\n",
    "print(df.head(10))"
   ]
  },
  {
   "source": [
    "### We will plot our findings."
   ],
   "cell_type": "markdown",
   "metadata": {}
  },
  {
   "source": [
    "import numpy as np\n",
    "import matplotlib.pyplot as plt\n",
    "\n",
    "plt.title(\"Teacher-Pupil Ratio vs. Deaths from ages 15-19\")\n",
    "plt.xlabel(\"Teacher to Pupil Ratio\")\n",
    "plt.ylabel(\"Deaths from ages 15 to 19\")\n",
    "\n",
    "x = np.array(ratio_and_death[pupil_ratio])\n",
    "y = np.array(ratio_and_death[death_15_19])\n",
    "plt.scatter(x, y, color = \"gold\")\n",
    "\n",
    "\n",
    "poly_fit = np.poly1d(np.polyfit(x, y, 1))\n",
    "line = np.linspace(0, 80, 70000)\n",
    "plt.plot(line, poly_fit(line), color = \"purple\")"
   ],
   "cell_type": "code",
   "metadata": {},
   "execution_count": 8,
   "outputs": [
    {
     "output_type": "error",
     "ename": "LinAlgError",
     "evalue": "SVD did not converge in Linear Least Squares",
     "traceback": [
      "\u001b[1;31m---------------------------------------------------------------------------\u001b[0m",
      "\u001b[1;31mLinAlgError\u001b[0m                               Traceback (most recent call last)",
      "\u001b[1;32m<ipython-input-8-b3f32b160b97>\u001b[0m in \u001b[0;36m<module>\u001b[1;34m\u001b[0m\n\u001b[0;32m     11\u001b[0m \u001b[1;33m\u001b[0m\u001b[0m\n\u001b[0;32m     12\u001b[0m \u001b[1;33m\u001b[0m\u001b[0m\n\u001b[1;32m---> 13\u001b[1;33m \u001b[0mpoly_fit\u001b[0m \u001b[1;33m=\u001b[0m \u001b[0mnp\u001b[0m\u001b[1;33m.\u001b[0m\u001b[0mpoly1d\u001b[0m\u001b[1;33m(\u001b[0m\u001b[0mnp\u001b[0m\u001b[1;33m.\u001b[0m\u001b[0mpolyfit\u001b[0m\u001b[1;33m(\u001b[0m\u001b[0mx\u001b[0m\u001b[1;33m,\u001b[0m \u001b[0my\u001b[0m\u001b[1;33m,\u001b[0m \u001b[1;36m1\u001b[0m\u001b[1;33m)\u001b[0m\u001b[1;33m)\u001b[0m\u001b[1;33m\u001b[0m\u001b[1;33m\u001b[0m\u001b[0m\n\u001b[0m\u001b[0;32m     14\u001b[0m \u001b[0mline\u001b[0m \u001b[1;33m=\u001b[0m \u001b[0mnp\u001b[0m\u001b[1;33m.\u001b[0m\u001b[0mlinspace\u001b[0m\u001b[1;33m(\u001b[0m\u001b[1;36m0\u001b[0m\u001b[1;33m,\u001b[0m \u001b[1;36m80\u001b[0m\u001b[1;33m,\u001b[0m \u001b[1;36m70000\u001b[0m\u001b[1;33m)\u001b[0m\u001b[1;33m\u001b[0m\u001b[1;33m\u001b[0m\u001b[0m\n\u001b[0;32m     15\u001b[0m \u001b[0mplt\u001b[0m\u001b[1;33m.\u001b[0m\u001b[0mplot\u001b[0m\u001b[1;33m(\u001b[0m\u001b[0mline\u001b[0m\u001b[1;33m,\u001b[0m \u001b[0mpoly_fit\u001b[0m\u001b[1;33m(\u001b[0m\u001b[0mline\u001b[0m\u001b[1;33m)\u001b[0m\u001b[1;33m,\u001b[0m \u001b[0mcolor\u001b[0m \u001b[1;33m=\u001b[0m \u001b[1;34m\"purple\"\u001b[0m\u001b[1;33m)\u001b[0m\u001b[1;33m\u001b[0m\u001b[1;33m\u001b[0m\u001b[0m\n",
      "\u001b[1;32m<__array_function__ internals>\u001b[0m in \u001b[0;36mpolyfit\u001b[1;34m(*args, **kwargs)\u001b[0m\n",
      "\u001b[1;32m~\\AppData\\Roaming\\Python\\Python39\\site-packages\\numpy\\lib\\polynomial.py\u001b[0m in \u001b[0;36mpolyfit\u001b[1;34m(x, y, deg, rcond, full, w, cov)\u001b[0m\n\u001b[0;32m    627\u001b[0m     \u001b[0mscale\u001b[0m \u001b[1;33m=\u001b[0m \u001b[0mNX\u001b[0m\u001b[1;33m.\u001b[0m\u001b[0msqrt\u001b[0m\u001b[1;33m(\u001b[0m\u001b[1;33m(\u001b[0m\u001b[0mlhs\u001b[0m\u001b[1;33m*\u001b[0m\u001b[0mlhs\u001b[0m\u001b[1;33m)\u001b[0m\u001b[1;33m.\u001b[0m\u001b[0msum\u001b[0m\u001b[1;33m(\u001b[0m\u001b[0maxis\u001b[0m\u001b[1;33m=\u001b[0m\u001b[1;36m0\u001b[0m\u001b[1;33m)\u001b[0m\u001b[1;33m)\u001b[0m\u001b[1;33m\u001b[0m\u001b[1;33m\u001b[0m\u001b[0m\n\u001b[0;32m    628\u001b[0m     \u001b[0mlhs\u001b[0m \u001b[1;33m/=\u001b[0m \u001b[0mscale\u001b[0m\u001b[1;33m\u001b[0m\u001b[1;33m\u001b[0m\u001b[0m\n\u001b[1;32m--> 629\u001b[1;33m     \u001b[0mc\u001b[0m\u001b[1;33m,\u001b[0m \u001b[0mresids\u001b[0m\u001b[1;33m,\u001b[0m \u001b[0mrank\u001b[0m\u001b[1;33m,\u001b[0m \u001b[0ms\u001b[0m \u001b[1;33m=\u001b[0m \u001b[0mlstsq\u001b[0m\u001b[1;33m(\u001b[0m\u001b[0mlhs\u001b[0m\u001b[1;33m,\u001b[0m \u001b[0mrhs\u001b[0m\u001b[1;33m,\u001b[0m \u001b[0mrcond\u001b[0m\u001b[1;33m)\u001b[0m\u001b[1;33m\u001b[0m\u001b[1;33m\u001b[0m\u001b[0m\n\u001b[0m\u001b[0;32m    630\u001b[0m     \u001b[0mc\u001b[0m \u001b[1;33m=\u001b[0m \u001b[1;33m(\u001b[0m\u001b[0mc\u001b[0m\u001b[1;33m.\u001b[0m\u001b[0mT\u001b[0m\u001b[1;33m/\u001b[0m\u001b[0mscale\u001b[0m\u001b[1;33m)\u001b[0m\u001b[1;33m.\u001b[0m\u001b[0mT\u001b[0m  \u001b[1;31m# broadcast scale coefficients\u001b[0m\u001b[1;33m\u001b[0m\u001b[1;33m\u001b[0m\u001b[0m\n\u001b[0;32m    631\u001b[0m \u001b[1;33m\u001b[0m\u001b[0m\n",
      "\u001b[1;32m<__array_function__ internals>\u001b[0m in \u001b[0;36mlstsq\u001b[1;34m(*args, **kwargs)\u001b[0m\n",
      "\u001b[1;32m~\\AppData\\Roaming\\Python\\Python39\\site-packages\\numpy\\linalg\\linalg.py\u001b[0m in \u001b[0;36mlstsq\u001b[1;34m(a, b, rcond)\u001b[0m\n\u001b[0;32m   2304\u001b[0m         \u001b[1;31m# lapack can't handle n_rhs = 0 - so allocate the array one larger in that axis\u001b[0m\u001b[1;33m\u001b[0m\u001b[1;33m\u001b[0m\u001b[1;33m\u001b[0m\u001b[0m\n\u001b[0;32m   2305\u001b[0m         \u001b[0mb\u001b[0m \u001b[1;33m=\u001b[0m \u001b[0mzeros\u001b[0m\u001b[1;33m(\u001b[0m\u001b[0mb\u001b[0m\u001b[1;33m.\u001b[0m\u001b[0mshape\u001b[0m\u001b[1;33m[\u001b[0m\u001b[1;33m:\u001b[0m\u001b[1;33m-\u001b[0m\u001b[1;36m2\u001b[0m\u001b[1;33m]\u001b[0m \u001b[1;33m+\u001b[0m \u001b[1;33m(\u001b[0m\u001b[0mm\u001b[0m\u001b[1;33m,\u001b[0m \u001b[0mn_rhs\u001b[0m \u001b[1;33m+\u001b[0m \u001b[1;36m1\u001b[0m\u001b[1;33m)\u001b[0m\u001b[1;33m,\u001b[0m \u001b[0mdtype\u001b[0m\u001b[1;33m=\u001b[0m\u001b[0mb\u001b[0m\u001b[1;33m.\u001b[0m\u001b[0mdtype\u001b[0m\u001b[1;33m)\u001b[0m\u001b[1;33m\u001b[0m\u001b[1;33m\u001b[0m\u001b[0m\n\u001b[1;32m-> 2306\u001b[1;33m     \u001b[0mx\u001b[0m\u001b[1;33m,\u001b[0m \u001b[0mresids\u001b[0m\u001b[1;33m,\u001b[0m \u001b[0mrank\u001b[0m\u001b[1;33m,\u001b[0m \u001b[0ms\u001b[0m \u001b[1;33m=\u001b[0m \u001b[0mgufunc\u001b[0m\u001b[1;33m(\u001b[0m\u001b[0ma\u001b[0m\u001b[1;33m,\u001b[0m \u001b[0mb\u001b[0m\u001b[1;33m,\u001b[0m \u001b[0mrcond\u001b[0m\u001b[1;33m,\u001b[0m \u001b[0msignature\u001b[0m\u001b[1;33m=\u001b[0m\u001b[0msignature\u001b[0m\u001b[1;33m,\u001b[0m \u001b[0mextobj\u001b[0m\u001b[1;33m=\u001b[0m\u001b[0mextobj\u001b[0m\u001b[1;33m)\u001b[0m\u001b[1;33m\u001b[0m\u001b[1;33m\u001b[0m\u001b[0m\n\u001b[0m\u001b[0;32m   2307\u001b[0m     \u001b[1;32mif\u001b[0m \u001b[0mm\u001b[0m \u001b[1;33m==\u001b[0m \u001b[1;36m0\u001b[0m\u001b[1;33m:\u001b[0m\u001b[1;33m\u001b[0m\u001b[1;33m\u001b[0m\u001b[0m\n\u001b[0;32m   2308\u001b[0m         \u001b[0mx\u001b[0m\u001b[1;33m[\u001b[0m\u001b[1;33m...\u001b[0m\u001b[1;33m]\u001b[0m \u001b[1;33m=\u001b[0m \u001b[1;36m0\u001b[0m\u001b[1;33m\u001b[0m\u001b[1;33m\u001b[0m\u001b[0m\n",
      "\u001b[1;32m~\\AppData\\Roaming\\Python\\Python39\\site-packages\\numpy\\linalg\\linalg.py\u001b[0m in \u001b[0;36m_raise_linalgerror_lstsq\u001b[1;34m(err, flag)\u001b[0m\n\u001b[0;32m     98\u001b[0m \u001b[1;33m\u001b[0m\u001b[0m\n\u001b[0;32m     99\u001b[0m \u001b[1;32mdef\u001b[0m \u001b[0m_raise_linalgerror_lstsq\u001b[0m\u001b[1;33m(\u001b[0m\u001b[0merr\u001b[0m\u001b[1;33m,\u001b[0m \u001b[0mflag\u001b[0m\u001b[1;33m)\u001b[0m\u001b[1;33m:\u001b[0m\u001b[1;33m\u001b[0m\u001b[1;33m\u001b[0m\u001b[0m\n\u001b[1;32m--> 100\u001b[1;33m     \u001b[1;32mraise\u001b[0m \u001b[0mLinAlgError\u001b[0m\u001b[1;33m(\u001b[0m\u001b[1;34m\"SVD did not converge in Linear Least Squares\"\u001b[0m\u001b[1;33m)\u001b[0m\u001b[1;33m\u001b[0m\u001b[1;33m\u001b[0m\u001b[0m\n\u001b[0m\u001b[0;32m    101\u001b[0m \u001b[1;33m\u001b[0m\u001b[0m\n\u001b[0;32m    102\u001b[0m \u001b[1;32mdef\u001b[0m \u001b[0mget_linalg_error_extobj\u001b[0m\u001b[1;33m(\u001b[0m\u001b[0mcallback\u001b[0m\u001b[1;33m)\u001b[0m\u001b[1;33m:\u001b[0m\u001b[1;33m\u001b[0m\u001b[1;33m\u001b[0m\u001b[0m\n",
      "\u001b[1;31mLinAlgError\u001b[0m: SVD did not converge in Linear Least Squares"
     ]
    }
   ]
  },
  {
   "source": [
    "### We will find the correlation between pupil-teacher ratio (secondary) and number of deaths from ages 15-19. "
   ],
   "cell_type": "markdown",
   "metadata": {}
  },
  {
   "cell_type": "code",
   "execution_count": 9,
   "metadata": {},
   "outputs": [
    {
     "output_type": "execute_result",
     "data": {
      "text/plain": [
       "0.16519731612262925"
      ]
     },
     "metadata": {},
     "execution_count": 9
    }
   ],
   "source": [
    "p = df[pupil_ratio]\n",
    "d = df[death_15_19]\n",
    "p.corr(d)"
   ]
  },
  {
   "source": [
    "## Conclusion\n",
    "\n",
    "### We predicted that the number of deaths from ages 15-19 will be higher when the pupil-teacher ratio is high. \n",
    "### As we can see from the scatterplot, regression line, and the correlation of 0.165197, this prediction was incorrect. "
   ],
   "cell_type": "markdown",
   "metadata": {}
  }
 ]
}